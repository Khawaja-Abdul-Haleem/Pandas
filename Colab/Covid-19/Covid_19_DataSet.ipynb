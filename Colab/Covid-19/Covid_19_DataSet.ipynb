{
  "nbformat": 4,
  "nbformat_minor": 0,
  "metadata": {
    "colab": {
      "name": "Covid-19_DataSet.ipynb",
      "provenance": [],
      "collapsed_sections": []
    },
    "kernelspec": {
      "name": "python3",
      "display_name": "Python 3"
    }
  },
  "cells": [
    {
      "cell_type": "code",
      "metadata": {
        "id": "CIfKe0BNfRkq",
        "colab_type": "code",
        "colab": {}
      },
      "source": [
        "import tensorflow as tf"
      ],
      "execution_count": null,
      "outputs": []
    },
    {
      "cell_type": "code",
      "metadata": {
        "id": "KEb0JzuUfdon",
        "colab_type": "code",
        "colab": {
          "base_uri": "https://localhost:8080/",
          "height": 35
        },
        "outputId": "b8cc009f-cc55-4c36-e4cd-bd5302be31ae"
      },
      "source": [
        "tf.__version__"
      ],
      "execution_count": null,
      "outputs": [
        {
          "output_type": "execute_result",
          "data": {
            "application/vnd.google.colaboratory.intrinsic": {
              "type": "string"
            },
            "text/plain": [
              "'2.2.0'"
            ]
          },
          "metadata": {
            "tags": []
          },
          "execution_count": 3
        }
      ]
    },
    {
      "cell_type": "code",
      "metadata": {
        "id": "uKJeoalpfiY5",
        "colab_type": "code",
        "colab": {}
      },
      "source": [
        "import pandas as pd\n",
        "import numpy as np\n",
        "import matplotlib.pyplot as plt"
      ],
      "execution_count": null,
      "outputs": []
    },
    {
      "cell_type": "code",
      "metadata": {
        "id": "bxccfvqm7k0B",
        "colab_type": "code",
        "colab": {
          "resources": {
            "http://localhost:8080/nbextensions/google.colab/files.js": {
              "data": "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",
              "ok": true,
              "headers": [
                [
                  "content-type",
                  "application/javascript"
                ]
              ],
              "status": 200,
              "status_text": ""
            }
          },
          "base_uri": "https://localhost:8080/",
          "height": 73
        },
        "outputId": "be86b8a4-53e1-4eaa-8805-6d56f8577e12"
      },
      "source": [
        "import io \n",
        "from google.colab import files\n",
        "uploaded = files.upload()"
      ],
      "execution_count": null,
      "outputs": [
        {
          "output_type": "display_data",
          "data": {
            "text/html": [
              "\n",
              "     <input type=\"file\" id=\"files-1fe43fc5-13a8-4f9b-ac38-407441f9abf2\" name=\"files[]\" multiple disabled\n",
              "        style=\"border:none\" />\n",
              "     <output id=\"result-1fe43fc5-13a8-4f9b-ac38-407441f9abf2\">\n",
              "      Upload widget is only available when the cell has been executed in the\n",
              "      current browser session. Please rerun this cell to enable.\n",
              "      </output>\n",
              "      <script src=\"/nbextensions/google.colab/files.js\"></script> "
            ],
            "text/plain": [
              "<IPython.core.display.HTML object>"
            ]
          },
          "metadata": {
            "tags": []
          }
        },
        {
          "output_type": "stream",
          "text": [
            "Saving Covid-19.csv to Covid-19.csv\n"
          ],
          "name": "stdout"
        }
      ]
    },
    {
      "cell_type": "code",
      "metadata": {
        "id": "Ym9V-p208GFD",
        "colab_type": "code",
        "colab": {}
      },
      "source": [
        "dataset = pd.read_csv(io.BytesIO(uploaded[\"Covid-19.csv\"]))\n"
      ],
      "execution_count": null,
      "outputs": []
    },
    {
      "cell_type": "code",
      "metadata": {
        "id": "GRcJXADP88pB",
        "colab_type": "code",
        "colab": {
          "base_uri": "https://localhost:8080/",
          "height": 198
        },
        "outputId": "09b99b3f-d7a9-4db9-8393-17d65706ef1e"
      },
      "source": [
        "dataset.head()"
      ],
      "execution_count": null,
      "outputs": [
        {
          "output_type": "execute_result",
          "data": {
            "text/html": [
              "<div>\n",
              "<style scoped>\n",
              "    .dataframe tbody tr th:only-of-type {\n",
              "        vertical-align: middle;\n",
              "    }\n",
              "\n",
              "    .dataframe tbody tr th {\n",
              "        vertical-align: top;\n",
              "    }\n",
              "\n",
              "    .dataframe thead th {\n",
              "        text-align: right;\n",
              "    }\n",
              "</style>\n",
              "<table border=\"1\" class=\"dataframe\">\n",
              "  <thead>\n",
              "    <tr style=\"text-align: right;\">\n",
              "      <th></th>\n",
              "      <th>DateRep</th>\n",
              "      <th>Day</th>\n",
              "      <th>Month</th>\n",
              "      <th>Year</th>\n",
              "      <th>Cases</th>\n",
              "      <th>Deaths</th>\n",
              "      <th>Countries and territories</th>\n",
              "      <th>GeoId</th>\n",
              "    </tr>\n",
              "  </thead>\n",
              "  <tbody>\n",
              "    <tr>\n",
              "      <th>0</th>\n",
              "      <td>3/24/2020</td>\n",
              "      <td>24</td>\n",
              "      <td>3</td>\n",
              "      <td>2020</td>\n",
              "      <td>6</td>\n",
              "      <td>1</td>\n",
              "      <td>Afghanistan</td>\n",
              "      <td>AF</td>\n",
              "    </tr>\n",
              "    <tr>\n",
              "      <th>1</th>\n",
              "      <td>3/23/2020</td>\n",
              "      <td>23</td>\n",
              "      <td>3</td>\n",
              "      <td>2020</td>\n",
              "      <td>10</td>\n",
              "      <td>0</td>\n",
              "      <td>Afghanistan</td>\n",
              "      <td>AF</td>\n",
              "    </tr>\n",
              "    <tr>\n",
              "      <th>2</th>\n",
              "      <td>3/22/2020</td>\n",
              "      <td>22</td>\n",
              "      <td>3</td>\n",
              "      <td>2020</td>\n",
              "      <td>0</td>\n",
              "      <td>0</td>\n",
              "      <td>Afghanistan</td>\n",
              "      <td>AF</td>\n",
              "    </tr>\n",
              "    <tr>\n",
              "      <th>3</th>\n",
              "      <td>3/21/2020</td>\n",
              "      <td>21</td>\n",
              "      <td>3</td>\n",
              "      <td>2020</td>\n",
              "      <td>2</td>\n",
              "      <td>0</td>\n",
              "      <td>Afghanistan</td>\n",
              "      <td>AF</td>\n",
              "    </tr>\n",
              "    <tr>\n",
              "      <th>4</th>\n",
              "      <td>3/20/2020</td>\n",
              "      <td>20</td>\n",
              "      <td>3</td>\n",
              "      <td>2020</td>\n",
              "      <td>0</td>\n",
              "      <td>0</td>\n",
              "      <td>Afghanistan</td>\n",
              "      <td>AF</td>\n",
              "    </tr>\n",
              "  </tbody>\n",
              "</table>\n",
              "</div>"
            ],
            "text/plain": [
              "     DateRep  Day  Month  Year  Cases  Deaths Countries and territories GeoId\n",
              "0  3/24/2020   24      3  2020      6       1               Afghanistan    AF\n",
              "1  3/23/2020   23      3  2020     10       0               Afghanistan    AF\n",
              "2  3/22/2020   22      3  2020      0       0               Afghanistan    AF\n",
              "3  3/21/2020   21      3  2020      2       0               Afghanistan    AF\n",
              "4  3/20/2020   20      3  2020      0       0               Afghanistan    AF"
            ]
          },
          "metadata": {
            "tags": []
          },
          "execution_count": 21
        }
      ]
    },
    {
      "cell_type": "markdown",
      "metadata": {
        "id": "T__5fk9P9TJG",
        "colab_type": "text"
      },
      "source": [
        "**Maximum Number of Deaths**"
      ]
    },
    {
      "cell_type": "code",
      "metadata": {
        "id": "jTL-qCN6CY8X",
        "colab_type": "code",
        "colab": {}
      },
      "source": [
        "def calculate_max(column):\n",
        "  return column.max()"
      ],
      "execution_count": null,
      "outputs": []
    },
    {
      "cell_type": "code",
      "metadata": {
        "id": "vEfHOHCpCdYs",
        "colab_type": "code",
        "colab": {
          "base_uri": "https://localhost:8080/",
          "height": 35
        },
        "outputId": "d5b0c1eb-17b2-41ea-febf-a22f9136129f"
      },
      "source": [
        "x = calculate_max(dataset['Deaths'])\n",
        "x"
      ],
      "execution_count": null,
      "outputs": [
        {
          "output_type": "execute_result",
          "data": {
            "text/plain": [
              "795"
            ]
          },
          "metadata": {
            "tags": []
          },
          "execution_count": 26
        }
      ]
    },
    {
      "cell_type": "code",
      "metadata": {
        "id": "ykl--HtaCsdd",
        "colab_type": "code",
        "colab": {}
      },
      "source": [
        "  def getmax_valueindex(column):\n",
        "    return column.idxmax()"
      ],
      "execution_count": null,
      "outputs": []
    },
    {
      "cell_type": "code",
      "metadata": {
        "id": "ZAscfKxGDSyV",
        "colab_type": "code",
        "colab": {}
      },
      "source": [
        "column = dataset['Deaths']"
      ],
      "execution_count": null,
      "outputs": []
    },
    {
      "cell_type": "code",
      "metadata": {
        "id": "c0nOac6YDJct",
        "colab_type": "code",
        "colab": {
          "base_uri": "https://localhost:8080/",
          "height": 35
        },
        "outputId": "54e140c8-68fb-4a66-e581-8e82cca3fa1d"
      },
      "source": [
        "column.idxmax()"
      ],
      "execution_count": null,
      "outputs": [
        {
          "output_type": "execute_result",
          "data": {
            "text/plain": [
              "3186"
            ]
          },
          "metadata": {
            "tags": []
          },
          "execution_count": 31
        }
      ]
    },
    {
      "cell_type": "code",
      "metadata": {
        "id": "MLylxllKDSGW",
        "colab_type": "code",
        "colab": {
          "base_uri": "https://localhost:8080/",
          "height": 35
        },
        "outputId": "412ab191-592d-4c4b-9f28-5fe05db0ff67"
      },
      "source": [
        "y = getmax_valueindex(dataset['Deaths'])\n",
        "y"
      ],
      "execution_count": null,
      "outputs": [
        {
          "output_type": "execute_result",
          "data": {
            "text/plain": [
              "3186"
            ]
          },
          "metadata": {
            "tags": []
          },
          "execution_count": 32
        }
      ]
    },
    {
      "cell_type": "code",
      "metadata": {
        "id": "kDoeaIODDNey",
        "colab_type": "code",
        "colab": {}
      },
      "source": [
        "def display_max(column):\n",
        "  temp = getmax_valueindex(column)\n",
        "  print(dataset.loc[[temp]])"
      ],
      "execution_count": null,
      "outputs": []
    },
    {
      "cell_type": "code",
      "metadata": {
        "id": "tNB4DQBXECLl",
        "colab_type": "code",
        "colab": {
          "base_uri": "https://localhost:8080/",
          "height": 90
        },
        "outputId": "3ca8caa8-782f-4d82-930d-69fbfa8bb737"
      },
      "source": [
        "display_max(dataset['Deaths'])"
      ],
      "execution_count": null,
      "outputs": [
        {
          "output_type": "stream",
          "text": [
            "        DateRep  Day  Month  ...  Deaths  Countries and territories  GeoId\n",
            "3186  3/22/2020   22      3  ...     795                      Italy     IT\n",
            "\n",
            "[1 rows x 8 columns]\n"
          ],
          "name": "stdout"
        }
      ]
    },
    {
      "cell_type": "markdown",
      "metadata": {
        "id": "JbG-zyWIENof",
        "colab_type": "text"
      },
      "source": [
        "**Minimum Number of Deaths**"
      ]
    },
    {
      "cell_type": "code",
      "metadata": {
        "id": "NwQ-OK4QEiUR",
        "colab_type": "code",
        "colab": {}
      },
      "source": [
        "def calculate_min(column):\n",
        "  return column.min()"
      ],
      "execution_count": null,
      "outputs": []
    },
    {
      "cell_type": "code",
      "metadata": {
        "id": "vtwmtT5JEtJR",
        "colab_type": "code",
        "colab": {
          "base_uri": "https://localhost:8080/",
          "height": 35
        },
        "outputId": "f4fde669-70c0-49a5-8f50-f8a171f06aab"
      },
      "source": [
        "x1 = calculate_min(dataset['Deaths'])\n",
        "x1"
      ],
      "execution_count": null,
      "outputs": [
        {
          "output_type": "execute_result",
          "data": {
            "text/plain": [
              "0"
            ]
          },
          "metadata": {
            "tags": []
          },
          "execution_count": 40
        }
      ]
    },
    {
      "cell_type": "code",
      "metadata": {
        "id": "iFzeo3GbE5Hb",
        "colab_type": "code",
        "colab": {}
      },
      "source": [
        "def getmin_valueindex(column):\n",
        "    return column.idxmin()"
      ],
      "execution_count": null,
      "outputs": []
    },
    {
      "cell_type": "code",
      "metadata": {
        "id": "tFksUv1JFB9T",
        "colab_type": "code",
        "colab": {
          "base_uri": "https://localhost:8080/",
          "height": 35
        },
        "outputId": "da1fb411-cb5b-4c0f-a1f6-acb64158d3dc"
      },
      "source": [
        "column.idxmin()"
      ],
      "execution_count": null,
      "outputs": [
        {
          "output_type": "execute_result",
          "data": {
            "text/plain": [
              "1"
            ]
          },
          "metadata": {
            "tags": []
          },
          "execution_count": 44
        }
      ]
    },
    {
      "cell_type": "code",
      "metadata": {
        "id": "ajSOy2hRFJVy",
        "colab_type": "code",
        "colab": {
          "base_uri": "https://localhost:8080/",
          "height": 35
        },
        "outputId": "bd8a35b5-8770-4887-dded-c5875b5d70f3"
      },
      "source": [
        "y1 = getmin_valueindex(dataset['Deaths'])\n",
        "y1"
      ],
      "execution_count": null,
      "outputs": [
        {
          "output_type": "execute_result",
          "data": {
            "text/plain": [
              "1"
            ]
          },
          "metadata": {
            "tags": []
          },
          "execution_count": 48
        }
      ]
    },
    {
      "cell_type": "code",
      "metadata": {
        "id": "lckzKz8TFQFr",
        "colab_type": "code",
        "colab": {}
      },
      "source": [
        "def display_min(column):\n",
        "  temp = getmin_valueindex(column)\n",
        "  print(dataset.loc[[temp]])"
      ],
      "execution_count": null,
      "outputs": []
    },
    {
      "cell_type": "code",
      "metadata": {
        "id": "jq0a1qv4Fqj6",
        "colab_type": "code",
        "colab": {
          "base_uri": "https://localhost:8080/",
          "height": 54
        },
        "outputId": "47f92bea-d467-4781-d7ac-87a62a4601fd"
      },
      "source": [
        "display_min(dataset['Deaths'])"
      ],
      "execution_count": null,
      "outputs": [
        {
          "output_type": "stream",
          "text": [
            "     DateRep  Day  Month  Year  Cases  Deaths Countries and territories GeoId\n",
            "1  3/23/2020   23      3  2020     10       0               Afghanistan    AF\n"
          ],
          "name": "stdout"
        }
      ]
    },
    {
      "cell_type": "markdown",
      "metadata": {
        "id": "44AQOcBbFxfu",
        "colab_type": "text"
      },
      "source": [
        "**Get DataFrame of specified Country**"
      ]
    },
    {
      "cell_type": "code",
      "metadata": {
        "id": "otWgvIHFGDdN",
        "colab_type": "code",
        "colab": {
          "base_uri": "https://localhost:8080/",
          "height": 407
        },
        "outputId": "6f2a987a-cd72-4ae7-ba3c-bcddc7dd1e6d"
      },
      "source": [
        "x_ds = dataset.where(dataset[\"Countries and territories\"] == 'Afghanistan')\n",
        "x_df = pd.DataFrame(x_ds)\n",
        "x_df "
      ],
      "execution_count": null,
      "outputs": [
        {
          "output_type": "execute_result",
          "data": {
            "text/html": [
              "<div>\n",
              "<style scoped>\n",
              "    .dataframe tbody tr th:only-of-type {\n",
              "        vertical-align: middle;\n",
              "    }\n",
              "\n",
              "    .dataframe tbody tr th {\n",
              "        vertical-align: top;\n",
              "    }\n",
              "\n",
              "    .dataframe thead th {\n",
              "        text-align: right;\n",
              "    }\n",
              "</style>\n",
              "<table border=\"1\" class=\"dataframe\">\n",
              "  <thead>\n",
              "    <tr style=\"text-align: right;\">\n",
              "      <th></th>\n",
              "      <th>DateRep</th>\n",
              "      <th>Day</th>\n",
              "      <th>Month</th>\n",
              "      <th>Year</th>\n",
              "      <th>Cases</th>\n",
              "      <th>Deaths</th>\n",
              "      <th>Countries and territories</th>\n",
              "      <th>GeoId</th>\n",
              "    </tr>\n",
              "  </thead>\n",
              "  <tbody>\n",
              "    <tr>\n",
              "      <th>0</th>\n",
              "      <td>3/24/2020</td>\n",
              "      <td>24.0</td>\n",
              "      <td>3.0</td>\n",
              "      <td>2020.0</td>\n",
              "      <td>6.0</td>\n",
              "      <td>1.0</td>\n",
              "      <td>Afghanistan</td>\n",
              "      <td>AF</td>\n",
              "    </tr>\n",
              "    <tr>\n",
              "      <th>1</th>\n",
              "      <td>3/23/2020</td>\n",
              "      <td>23.0</td>\n",
              "      <td>3.0</td>\n",
              "      <td>2020.0</td>\n",
              "      <td>10.0</td>\n",
              "      <td>0.0</td>\n",
              "      <td>Afghanistan</td>\n",
              "      <td>AF</td>\n",
              "    </tr>\n",
              "    <tr>\n",
              "      <th>2</th>\n",
              "      <td>3/22/2020</td>\n",
              "      <td>22.0</td>\n",
              "      <td>3.0</td>\n",
              "      <td>2020.0</td>\n",
              "      <td>0.0</td>\n",
              "      <td>0.0</td>\n",
              "      <td>Afghanistan</td>\n",
              "      <td>AF</td>\n",
              "    </tr>\n",
              "    <tr>\n",
              "      <th>3</th>\n",
              "      <td>3/21/2020</td>\n",
              "      <td>21.0</td>\n",
              "      <td>3.0</td>\n",
              "      <td>2020.0</td>\n",
              "      <td>2.0</td>\n",
              "      <td>0.0</td>\n",
              "      <td>Afghanistan</td>\n",
              "      <td>AF</td>\n",
              "    </tr>\n",
              "    <tr>\n",
              "      <th>4</th>\n",
              "      <td>3/20/2020</td>\n",
              "      <td>20.0</td>\n",
              "      <td>3.0</td>\n",
              "      <td>2020.0</td>\n",
              "      <td>0.0</td>\n",
              "      <td>0.0</td>\n",
              "      <td>Afghanistan</td>\n",
              "      <td>AF</td>\n",
              "    </tr>\n",
              "    <tr>\n",
              "      <th>...</th>\n",
              "      <td>...</td>\n",
              "      <td>...</td>\n",
              "      <td>...</td>\n",
              "      <td>...</td>\n",
              "      <td>...</td>\n",
              "      <td>...</td>\n",
              "      <td>...</td>\n",
              "      <td>...</td>\n",
              "    </tr>\n",
              "    <tr>\n",
              "      <th>6546</th>\n",
              "      <td>NaN</td>\n",
              "      <td>NaN</td>\n",
              "      <td>NaN</td>\n",
              "      <td>NaN</td>\n",
              "      <td>NaN</td>\n",
              "      <td>NaN</td>\n",
              "      <td>NaN</td>\n",
              "      <td>NaN</td>\n",
              "    </tr>\n",
              "    <tr>\n",
              "      <th>6547</th>\n",
              "      <td>NaN</td>\n",
              "      <td>NaN</td>\n",
              "      <td>NaN</td>\n",
              "      <td>NaN</td>\n",
              "      <td>NaN</td>\n",
              "      <td>NaN</td>\n",
              "      <td>NaN</td>\n",
              "      <td>NaN</td>\n",
              "    </tr>\n",
              "    <tr>\n",
              "      <th>6548</th>\n",
              "      <td>NaN</td>\n",
              "      <td>NaN</td>\n",
              "      <td>NaN</td>\n",
              "      <td>NaN</td>\n",
              "      <td>NaN</td>\n",
              "      <td>NaN</td>\n",
              "      <td>NaN</td>\n",
              "      <td>NaN</td>\n",
              "    </tr>\n",
              "    <tr>\n",
              "      <th>6549</th>\n",
              "      <td>NaN</td>\n",
              "      <td>NaN</td>\n",
              "      <td>NaN</td>\n",
              "      <td>NaN</td>\n",
              "      <td>NaN</td>\n",
              "      <td>NaN</td>\n",
              "      <td>NaN</td>\n",
              "      <td>NaN</td>\n",
              "    </tr>\n",
              "    <tr>\n",
              "      <th>6550</th>\n",
              "      <td>NaN</td>\n",
              "      <td>NaN</td>\n",
              "      <td>NaN</td>\n",
              "      <td>NaN</td>\n",
              "      <td>NaN</td>\n",
              "      <td>NaN</td>\n",
              "      <td>NaN</td>\n",
              "      <td>NaN</td>\n",
              "    </tr>\n",
              "  </tbody>\n",
              "</table>\n",
              "<p>6551 rows × 8 columns</p>\n",
              "</div>"
            ],
            "text/plain": [
              "        DateRep   Day  Month  ...  Deaths  Countries and territories  GeoId\n",
              "0     3/24/2020  24.0    3.0  ...     1.0                Afghanistan     AF\n",
              "1     3/23/2020  23.0    3.0  ...     0.0                Afghanistan     AF\n",
              "2     3/22/2020  22.0    3.0  ...     0.0                Afghanistan     AF\n",
              "3     3/21/2020  21.0    3.0  ...     0.0                Afghanistan     AF\n",
              "4     3/20/2020  20.0    3.0  ...     0.0                Afghanistan     AF\n",
              "...         ...   ...    ...  ...     ...                        ...    ...\n",
              "6546        NaN   NaN    NaN  ...     NaN                        NaN    NaN\n",
              "6547        NaN   NaN    NaN  ...     NaN                        NaN    NaN\n",
              "6548        NaN   NaN    NaN  ...     NaN                        NaN    NaN\n",
              "6549        NaN   NaN    NaN  ...     NaN                        NaN    NaN\n",
              "6550        NaN   NaN    NaN  ...     NaN                        NaN    NaN\n",
              "\n",
              "[6551 rows x 8 columns]"
            ]
          },
          "metadata": {
            "tags": []
          },
          "execution_count": 53
        }
      ]
    },
    {
      "cell_type": "code",
      "metadata": {
        "id": "z8oCxsVJGdvr",
        "colab_type": "code",
        "colab": {}
      },
      "source": [
        "def get_country_frame(Dataframe, CountryName):\n",
        "    temp = Dataframe.where(Dataframe[\"Countries and territories\"] == CountryName)\n",
        "    return pd.DataFrame(temp.iloc[temp.first_valid_index():temp.last_valid_index()+1])"
      ],
      "execution_count": null,
      "outputs": []
    },
    {
      "cell_type": "code",
      "metadata": {
        "id": "b6d-kidpGqUK",
        "colab_type": "code",
        "colab": {
          "base_uri": "https://localhost:8080/",
          "height": 138
        },
        "outputId": "7e1d33d5-8656-42ef-abbe-ed50187d9d0c"
      },
      "source": [
        "df_2 = get_country_frame(dataset,\"Angola\")\n",
        "df_2"
      ],
      "execution_count": null,
      "outputs": [
        {
          "output_type": "execute_result",
          "data": {
            "text/html": [
              "<div>\n",
              "<style scoped>\n",
              "    .dataframe tbody tr th:only-of-type {\n",
              "        vertical-align: middle;\n",
              "    }\n",
              "\n",
              "    .dataframe tbody tr th {\n",
              "        vertical-align: top;\n",
              "    }\n",
              "\n",
              "    .dataframe thead th {\n",
              "        text-align: right;\n",
              "    }\n",
              "</style>\n",
              "<table border=\"1\" class=\"dataframe\">\n",
              "  <thead>\n",
              "    <tr style=\"text-align: right;\">\n",
              "      <th></th>\n",
              "      <th>DateRep</th>\n",
              "      <th>Day</th>\n",
              "      <th>Month</th>\n",
              "      <th>Year</th>\n",
              "      <th>Cases</th>\n",
              "      <th>Deaths</th>\n",
              "      <th>Countries and territories</th>\n",
              "      <th>GeoId</th>\n",
              "    </tr>\n",
              "  </thead>\n",
              "  <tbody>\n",
              "    <tr>\n",
              "      <th>75</th>\n",
              "      <td>3/24/2020</td>\n",
              "      <td>24.0</td>\n",
              "      <td>3.0</td>\n",
              "      <td>2020.0</td>\n",
              "      <td>0.0</td>\n",
              "      <td>0.0</td>\n",
              "      <td>Angola</td>\n",
              "      <td>AO</td>\n",
              "    </tr>\n",
              "    <tr>\n",
              "      <th>76</th>\n",
              "      <td>3/23/2020</td>\n",
              "      <td>23.0</td>\n",
              "      <td>3.0</td>\n",
              "      <td>2020.0</td>\n",
              "      <td>0.0</td>\n",
              "      <td>0.0</td>\n",
              "      <td>Angola</td>\n",
              "      <td>AO</td>\n",
              "    </tr>\n",
              "    <tr>\n",
              "      <th>77</th>\n",
              "      <td>3/22/2020</td>\n",
              "      <td>22.0</td>\n",
              "      <td>3.0</td>\n",
              "      <td>2020.0</td>\n",
              "      <td>2.0</td>\n",
              "      <td>0.0</td>\n",
              "      <td>Angola</td>\n",
              "      <td>AO</td>\n",
              "    </tr>\n",
              "  </tbody>\n",
              "</table>\n",
              "</div>"
            ],
            "text/plain": [
              "      DateRep   Day  Month  ...  Deaths  Countries and territories  GeoId\n",
              "75  3/24/2020  24.0    3.0  ...     0.0                     Angola     AO\n",
              "76  3/23/2020  23.0    3.0  ...     0.0                     Angola     AO\n",
              "77  3/22/2020  22.0    3.0  ...     0.0                     Angola     AO\n",
              "\n",
              "[3 rows x 8 columns]"
            ]
          },
          "metadata": {
            "tags": []
          },
          "execution_count": 62
        }
      ]
    },
    {
      "cell_type": "code",
      "metadata": {
        "id": "EIgSoxwOHPYP",
        "colab_type": "code",
        "colab": {
          "base_uri": "https://localhost:8080/",
          "height": 138
        },
        "outputId": "949bb6c6-a17f-4f88-ea98-6840e312dbe9"
      },
      "source": [
        "df_2.sort_values(by=\"DateRep\") #sort by any colum index"
      ],
      "execution_count": null,
      "outputs": [
        {
          "output_type": "execute_result",
          "data": {
            "text/html": [
              "<div>\n",
              "<style scoped>\n",
              "    .dataframe tbody tr th:only-of-type {\n",
              "        vertical-align: middle;\n",
              "    }\n",
              "\n",
              "    .dataframe tbody tr th {\n",
              "        vertical-align: top;\n",
              "    }\n",
              "\n",
              "    .dataframe thead th {\n",
              "        text-align: right;\n",
              "    }\n",
              "</style>\n",
              "<table border=\"1\" class=\"dataframe\">\n",
              "  <thead>\n",
              "    <tr style=\"text-align: right;\">\n",
              "      <th></th>\n",
              "      <th>DateRep</th>\n",
              "      <th>Day</th>\n",
              "      <th>Month</th>\n",
              "      <th>Year</th>\n",
              "      <th>Cases</th>\n",
              "      <th>Deaths</th>\n",
              "      <th>Countries and territories</th>\n",
              "      <th>GeoId</th>\n",
              "    </tr>\n",
              "  </thead>\n",
              "  <tbody>\n",
              "    <tr>\n",
              "      <th>77</th>\n",
              "      <td>3/22/2020</td>\n",
              "      <td>22.0</td>\n",
              "      <td>3.0</td>\n",
              "      <td>2020.0</td>\n",
              "      <td>2.0</td>\n",
              "      <td>0.0</td>\n",
              "      <td>Angola</td>\n",
              "      <td>AO</td>\n",
              "    </tr>\n",
              "    <tr>\n",
              "      <th>76</th>\n",
              "      <td>3/23/2020</td>\n",
              "      <td>23.0</td>\n",
              "      <td>3.0</td>\n",
              "      <td>2020.0</td>\n",
              "      <td>0.0</td>\n",
              "      <td>0.0</td>\n",
              "      <td>Angola</td>\n",
              "      <td>AO</td>\n",
              "    </tr>\n",
              "    <tr>\n",
              "      <th>75</th>\n",
              "      <td>3/24/2020</td>\n",
              "      <td>24.0</td>\n",
              "      <td>3.0</td>\n",
              "      <td>2020.0</td>\n",
              "      <td>0.0</td>\n",
              "      <td>0.0</td>\n",
              "      <td>Angola</td>\n",
              "      <td>AO</td>\n",
              "    </tr>\n",
              "  </tbody>\n",
              "</table>\n",
              "</div>"
            ],
            "text/plain": [
              "      DateRep   Day  Month  ...  Deaths  Countries and territories  GeoId\n",
              "77  3/22/2020  22.0    3.0  ...     0.0                     Angola     AO\n",
              "76  3/23/2020  23.0    3.0  ...     0.0                     Angola     AO\n",
              "75  3/24/2020  24.0    3.0  ...     0.0                     Angola     AO\n",
              "\n",
              "[3 rows x 8 columns]"
            ]
          },
          "metadata": {
            "tags": []
          },
          "execution_count": 64
        }
      ]
    },
    {
      "cell_type": "markdown",
      "metadata": {
        "id": "b6N4pIaiHZBr",
        "colab_type": "text"
      },
      "source": [
        "**Display_country Names**"
      ]
    },
    {
      "cell_type": "code",
      "metadata": {
        "id": "tC-N4rCYHhu8",
        "colab_type": "code",
        "colab": {
          "base_uri": "https://localhost:8080/",
          "height": 635
        },
        "outputId": "d3b78a13-c759-4cd6-d23f-f32b9b87f7e3"
      },
      "source": [
        "def display_country_names():\n",
        "  print(dataset['Countries and territories'].unique())\n",
        "\n",
        "display_country_names()"
      ],
      "execution_count": null,
      "outputs": [
        {
          "output_type": "stream",
          "text": [
            "['Afghanistan' 'Angola' 'Albania' 'Andorra' 'Argentina' 'Armenia'\n",
            " 'Antigua_and_Barbuda' 'Algeria' 'Australia' 'Austria' 'Azerbaijan'\n",
            " 'Bahamas' 'Bahrain' 'Bangladesh' 'Barbados' 'Belarus' 'Belgium' 'Belize'\n",
            " 'Benin' 'Bermuda' 'Bhutan' 'Bolivia' 'Bosnia_and_Herzegovina' 'Brazil'\n",
            " 'Brunei_Darussalam' 'Bulgaria' 'Burkina_Faso' 'Cambodia' 'Cameroon'\n",
            " 'Canada' 'CANADA' 'Cape_Verde'\n",
            " 'Cases_on_an_international_conveyance_Japan' 'Cayman_Islands'\n",
            " 'Central_African_Republic' 'Chad' 'Chile' 'China' 'Colombia' 'Congo'\n",
            " 'Costa_Rica' 'Cote_dIvoire' 'Croatia' 'Cuba' 'Cyprus' 'Czech_Republic'\n",
            " 'Democratic_Republic_of_the_Congo' 'Denmark' 'Djibouti' 'Dominica'\n",
            " 'Dominican_Republic' 'Ecuador' 'Egypt' 'El_Salvador' 'Equatorial_Guinea'\n",
            " 'Eritrea' 'Estonia' 'Eswatini' 'Ethiopia' 'Faroe_Islands' 'Fiji'\n",
            " 'Finland' 'France' 'French_Polynesia' 'Gabon' 'Gambia' 'Georgia'\n",
            " 'Germany' 'Ghana' 'Gibraltar' 'Greece' 'Greenland' 'Grenada' 'Guam'\n",
            " 'Guatemala' 'Guernsey' 'Guinea' 'Guyana' 'Haiti' 'Holy_See' 'Honduras'\n",
            " 'Hungary' 'Iceland' 'India' 'Indonesia' 'Iran' 'Iraq' 'Ireland'\n",
            " 'Isle_of_Man' 'Israel' 'Italy' 'Jamaica' 'Japan' 'Jersey' 'Jordan'\n",
            " 'Kazakhstan' 'Kenya' 'Kosovo' 'Kuwait' 'Kyrgyzstan' 'Latvia' 'Lebanon'\n",
            " 'Liberia' 'Liechtenstein' 'Lithuania' 'Luxembourg' 'Madagascar'\n",
            " 'Malaysia' 'Maldives' 'Malta' 'Mauritania' 'Mauritius' 'Mexico' 'Moldova'\n",
            " 'Monaco' 'Mongolia' 'Montenegro' 'Montserrat' 'Morocco' 'Mozambique'\n",
            " 'Myanmar' 'Namibia' 'Nepal' 'Netherlands' 'Netherlands_Antilles'\n",
            " 'New_Caledonia' 'New_Zealand' 'Nicaragua' 'Niger' 'Nigeria'\n",
            " 'North_Macedonia' 'Norway' 'Oman' 'Pakistan' 'Palestine' 'Panama'\n",
            " 'Papua_New_Guinea' 'Paraguay' 'Peru' 'Philippines' 'Poland' 'Portugal'\n",
            " 'Qatar' 'Romania' 'Russia' 'Rwanda' 'Saint_Lucia'\n",
            " 'Saint_Vincent_and_the_Grenadines' 'San_Marino' 'Saudi_Arabia' 'Senegal'\n",
            " 'Serbia' 'Seychelles' 'Singapore' 'Slovakia' 'Slovenia' 'Somalia'\n",
            " 'South_Africa' 'South_Korea' 'Spain' 'Sri_Lanka' 'Sudan' 'Suriname'\n",
            " 'Sweden' 'Switzerland' 'Syria' 'Taiwan' 'Thailand' 'Timor_Leste' 'Togo'\n",
            " 'Trinidad_and_Tobago' 'Tunisia' 'Turkey' 'Uganda' 'Ukraine'\n",
            " 'United_Arab_Emirates' 'United_Kingdom' 'United_Republic_of_Tanzania'\n",
            " 'United_States_of_America' 'United_States_Virgin_Islands' 'Uruguay'\n",
            " 'Uzbekistan' 'Venezuela' 'Vietnam' 'Zambia' 'Zimbabwe']\n"
          ],
          "name": "stdout"
        }
      ]
    },
    {
      "cell_type": "markdown",
      "metadata": {
        "id": "n1kIr5TVHxfb",
        "colab_type": "text"
      },
      "source": [
        "**Extracting Useful Information By Plotting Graphs**"
      ]
    },
    {
      "cell_type": "code",
      "metadata": {
        "id": "ykaxy3oWH_At",
        "colab_type": "code",
        "colab": {}
      },
      "source": [
        "Pak = get_country_frame(dataset, 'Pakistan')"
      ],
      "execution_count": null,
      "outputs": []
    },
    {
      "cell_type": "code",
      "metadata": {
        "id": "mth7l6UVIYHN",
        "colab_type": "code",
        "colab": {
          "base_uri": "https://localhost:8080/",
          "height": 407
        },
        "outputId": "db30aab9-f6b6-4857-baf8-21210e7be892"
      },
      "source": [
        "Pak"
      ],
      "execution_count": null,
      "outputs": [
        {
          "output_type": "execute_result",
          "data": {
            "text/html": [
              "<div>\n",
              "<style scoped>\n",
              "    .dataframe tbody tr th:only-of-type {\n",
              "        vertical-align: middle;\n",
              "    }\n",
              "\n",
              "    .dataframe tbody tr th {\n",
              "        vertical-align: top;\n",
              "    }\n",
              "\n",
              "    .dataframe thead th {\n",
              "        text-align: right;\n",
              "    }\n",
              "</style>\n",
              "<table border=\"1\" class=\"dataframe\">\n",
              "  <thead>\n",
              "    <tr style=\"text-align: right;\">\n",
              "      <th></th>\n",
              "      <th>DateRep</th>\n",
              "      <th>Day</th>\n",
              "      <th>Month</th>\n",
              "      <th>Year</th>\n",
              "      <th>Cases</th>\n",
              "      <th>Deaths</th>\n",
              "      <th>Countries and territories</th>\n",
              "      <th>GeoId</th>\n",
              "    </tr>\n",
              "  </thead>\n",
              "  <tbody>\n",
              "    <tr>\n",
              "      <th>4689</th>\n",
              "      <td>3/24/2020</td>\n",
              "      <td>24.0</td>\n",
              "      <td>3.0</td>\n",
              "      <td>2020.0</td>\n",
              "      <td>103.0</td>\n",
              "      <td>1.0</td>\n",
              "      <td>Pakistan</td>\n",
              "      <td>PK</td>\n",
              "    </tr>\n",
              "    <tr>\n",
              "      <th>4690</th>\n",
              "      <td>3/23/2020</td>\n",
              "      <td>23.0</td>\n",
              "      <td>3.0</td>\n",
              "      <td>2020.0</td>\n",
              "      <td>138.0</td>\n",
              "      <td>2.0</td>\n",
              "      <td>Pakistan</td>\n",
              "      <td>PK</td>\n",
              "    </tr>\n",
              "    <tr>\n",
              "      <th>4691</th>\n",
              "      <td>3/22/2020</td>\n",
              "      <td>22.0</td>\n",
              "      <td>3.0</td>\n",
              "      <td>2020.0</td>\n",
              "      <td>151.0</td>\n",
              "      <td>0.0</td>\n",
              "      <td>Pakistan</td>\n",
              "      <td>PK</td>\n",
              "    </tr>\n",
              "    <tr>\n",
              "      <th>4692</th>\n",
              "      <td>3/21/2020</td>\n",
              "      <td>21.0</td>\n",
              "      <td>3.0</td>\n",
              "      <td>2020.0</td>\n",
              "      <td>17.0</td>\n",
              "      <td>1.0</td>\n",
              "      <td>Pakistan</td>\n",
              "      <td>PK</td>\n",
              "    </tr>\n",
              "    <tr>\n",
              "      <th>4693</th>\n",
              "      <td>3/20/2020</td>\n",
              "      <td>20.0</td>\n",
              "      <td>3.0</td>\n",
              "      <td>2020.0</td>\n",
              "      <td>176.0</td>\n",
              "      <td>2.0</td>\n",
              "      <td>Pakistan</td>\n",
              "      <td>PK</td>\n",
              "    </tr>\n",
              "    <tr>\n",
              "      <th>...</th>\n",
              "      <td>...</td>\n",
              "      <td>...</td>\n",
              "      <td>...</td>\n",
              "      <td>...</td>\n",
              "      <td>...</td>\n",
              "      <td>...</td>\n",
              "      <td>...</td>\n",
              "      <td>...</td>\n",
              "    </tr>\n",
              "    <tr>\n",
              "      <th>4764</th>\n",
              "      <td>1/4/2020</td>\n",
              "      <td>4.0</td>\n",
              "      <td>1.0</td>\n",
              "      <td>2020.0</td>\n",
              "      <td>0.0</td>\n",
              "      <td>0.0</td>\n",
              "      <td>Pakistan</td>\n",
              "      <td>PK</td>\n",
              "    </tr>\n",
              "    <tr>\n",
              "      <th>4765</th>\n",
              "      <td>1/3/2020</td>\n",
              "      <td>3.0</td>\n",
              "      <td>1.0</td>\n",
              "      <td>2020.0</td>\n",
              "      <td>0.0</td>\n",
              "      <td>0.0</td>\n",
              "      <td>Pakistan</td>\n",
              "      <td>PK</td>\n",
              "    </tr>\n",
              "    <tr>\n",
              "      <th>4766</th>\n",
              "      <td>1/2/2020</td>\n",
              "      <td>2.0</td>\n",
              "      <td>1.0</td>\n",
              "      <td>2020.0</td>\n",
              "      <td>0.0</td>\n",
              "      <td>0.0</td>\n",
              "      <td>Pakistan</td>\n",
              "      <td>PK</td>\n",
              "    </tr>\n",
              "    <tr>\n",
              "      <th>4767</th>\n",
              "      <td>1/1/2020</td>\n",
              "      <td>1.0</td>\n",
              "      <td>1.0</td>\n",
              "      <td>2020.0</td>\n",
              "      <td>0.0</td>\n",
              "      <td>0.0</td>\n",
              "      <td>Pakistan</td>\n",
              "      <td>PK</td>\n",
              "    </tr>\n",
              "    <tr>\n",
              "      <th>4768</th>\n",
              "      <td>12/31/2019</td>\n",
              "      <td>31.0</td>\n",
              "      <td>12.0</td>\n",
              "      <td>2019.0</td>\n",
              "      <td>0.0</td>\n",
              "      <td>0.0</td>\n",
              "      <td>Pakistan</td>\n",
              "      <td>PK</td>\n",
              "    </tr>\n",
              "  </tbody>\n",
              "</table>\n",
              "<p>80 rows × 8 columns</p>\n",
              "</div>"
            ],
            "text/plain": [
              "         DateRep   Day  Month  ...  Deaths  Countries and territories  GeoId\n",
              "4689   3/24/2020  24.0    3.0  ...     1.0                   Pakistan     PK\n",
              "4690   3/23/2020  23.0    3.0  ...     2.0                   Pakistan     PK\n",
              "4691   3/22/2020  22.0    3.0  ...     0.0                   Pakistan     PK\n",
              "4692   3/21/2020  21.0    3.0  ...     1.0                   Pakistan     PK\n",
              "4693   3/20/2020  20.0    3.0  ...     2.0                   Pakistan     PK\n",
              "...          ...   ...    ...  ...     ...                        ...    ...\n",
              "4764    1/4/2020   4.0    1.0  ...     0.0                   Pakistan     PK\n",
              "4765    1/3/2020   3.0    1.0  ...     0.0                   Pakistan     PK\n",
              "4766    1/2/2020   2.0    1.0  ...     0.0                   Pakistan     PK\n",
              "4767    1/1/2020   1.0    1.0  ...     0.0                   Pakistan     PK\n",
              "4768  12/31/2019  31.0   12.0  ...     0.0                   Pakistan     PK\n",
              "\n",
              "[80 rows x 8 columns]"
            ]
          },
          "metadata": {
            "tags": []
          },
          "execution_count": 67
        }
      ]
    },
    {
      "cell_type": "code",
      "metadata": {
        "id": "SPlzBav0IY1q",
        "colab_type": "code",
        "colab": {}
      },
      "source": [
        "df_2[\"DateRep\"] = pd.to_datetime(df_2['DateRep'])"
      ],
      "execution_count": null,
      "outputs": []
    },
    {
      "cell_type": "code",
      "metadata": {
        "id": "WV_DLw8XImtg",
        "colab_type": "code",
        "colab": {
          "base_uri": "https://localhost:8080/",
          "height": 35
        },
        "outputId": "2edc228f-c41c-4600-8cf5-c65a2dba5421"
      },
      "source": [
        "type(df_2['DateRep'].iloc[0])"
      ],
      "execution_count": null,
      "outputs": [
        {
          "output_type": "execute_result",
          "data": {
            "text/plain": [
              "pandas._libs.tslibs.timestamps.Timestamp"
            ]
          },
          "metadata": {
            "tags": []
          },
          "execution_count": 71
        }
      ]
    },
    {
      "cell_type": "code",
      "metadata": {
        "id": "Er_UH_OPI3NU",
        "colab_type": "code",
        "colab": {
          "base_uri": "https://localhost:8080/",
          "height": 138
        },
        "outputId": "f0664d84-1835-4696-c968-254e85656e18"
      },
      "source": [
        "df_2"
      ],
      "execution_count": null,
      "outputs": [
        {
          "output_type": "execute_result",
          "data": {
            "text/html": [
              "<div>\n",
              "<style scoped>\n",
              "    .dataframe tbody tr th:only-of-type {\n",
              "        vertical-align: middle;\n",
              "    }\n",
              "\n",
              "    .dataframe tbody tr th {\n",
              "        vertical-align: top;\n",
              "    }\n",
              "\n",
              "    .dataframe thead th {\n",
              "        text-align: right;\n",
              "    }\n",
              "</style>\n",
              "<table border=\"1\" class=\"dataframe\">\n",
              "  <thead>\n",
              "    <tr style=\"text-align: right;\">\n",
              "      <th></th>\n",
              "      <th>DateRep</th>\n",
              "      <th>Day</th>\n",
              "      <th>Month</th>\n",
              "      <th>Year</th>\n",
              "      <th>Cases</th>\n",
              "      <th>Deaths</th>\n",
              "      <th>Countries and territories</th>\n",
              "      <th>GeoId</th>\n",
              "    </tr>\n",
              "  </thead>\n",
              "  <tbody>\n",
              "    <tr>\n",
              "      <th>75</th>\n",
              "      <td>2020-03-24</td>\n",
              "      <td>24.0</td>\n",
              "      <td>3.0</td>\n",
              "      <td>2020.0</td>\n",
              "      <td>0.0</td>\n",
              "      <td>0.0</td>\n",
              "      <td>Angola</td>\n",
              "      <td>AO</td>\n",
              "    </tr>\n",
              "    <tr>\n",
              "      <th>76</th>\n",
              "      <td>2020-03-23</td>\n",
              "      <td>23.0</td>\n",
              "      <td>3.0</td>\n",
              "      <td>2020.0</td>\n",
              "      <td>0.0</td>\n",
              "      <td>0.0</td>\n",
              "      <td>Angola</td>\n",
              "      <td>AO</td>\n",
              "    </tr>\n",
              "    <tr>\n",
              "      <th>77</th>\n",
              "      <td>2020-03-22</td>\n",
              "      <td>22.0</td>\n",
              "      <td>3.0</td>\n",
              "      <td>2020.0</td>\n",
              "      <td>2.0</td>\n",
              "      <td>0.0</td>\n",
              "      <td>Angola</td>\n",
              "      <td>AO</td>\n",
              "    </tr>\n",
              "  </tbody>\n",
              "</table>\n",
              "</div>"
            ],
            "text/plain": [
              "      DateRep   Day  Month  ...  Deaths  Countries and territories  GeoId\n",
              "75 2020-03-24  24.0    3.0  ...     0.0                     Angola     AO\n",
              "76 2020-03-23  23.0    3.0  ...     0.0                     Angola     AO\n",
              "77 2020-03-22  22.0    3.0  ...     0.0                     Angola     AO\n",
              "\n",
              "[3 rows x 8 columns]"
            ]
          },
          "metadata": {
            "tags": []
          },
          "execution_count": 72
        }
      ]
    },
    {
      "cell_type": "code",
      "metadata": {
        "id": "TlS_aak2I5Nq",
        "colab_type": "code",
        "colab": {
          "base_uri": "https://localhost:8080/",
          "height": 138
        },
        "outputId": "0c00ac52-0792-4c8f-e5a4-af15404a5c6a"
      },
      "source": [
        "df_2.sort_values('DateRep')"
      ],
      "execution_count": null,
      "outputs": [
        {
          "output_type": "execute_result",
          "data": {
            "text/html": [
              "<div>\n",
              "<style scoped>\n",
              "    .dataframe tbody tr th:only-of-type {\n",
              "        vertical-align: middle;\n",
              "    }\n",
              "\n",
              "    .dataframe tbody tr th {\n",
              "        vertical-align: top;\n",
              "    }\n",
              "\n",
              "    .dataframe thead th {\n",
              "        text-align: right;\n",
              "    }\n",
              "</style>\n",
              "<table border=\"1\" class=\"dataframe\">\n",
              "  <thead>\n",
              "    <tr style=\"text-align: right;\">\n",
              "      <th></th>\n",
              "      <th>DateRep</th>\n",
              "      <th>Day</th>\n",
              "      <th>Month</th>\n",
              "      <th>Year</th>\n",
              "      <th>Cases</th>\n",
              "      <th>Deaths</th>\n",
              "      <th>Countries and territories</th>\n",
              "      <th>GeoId</th>\n",
              "    </tr>\n",
              "  </thead>\n",
              "  <tbody>\n",
              "    <tr>\n",
              "      <th>77</th>\n",
              "      <td>2020-03-22</td>\n",
              "      <td>22.0</td>\n",
              "      <td>3.0</td>\n",
              "      <td>2020.0</td>\n",
              "      <td>2.0</td>\n",
              "      <td>0.0</td>\n",
              "      <td>Angola</td>\n",
              "      <td>AO</td>\n",
              "    </tr>\n",
              "    <tr>\n",
              "      <th>76</th>\n",
              "      <td>2020-03-23</td>\n",
              "      <td>23.0</td>\n",
              "      <td>3.0</td>\n",
              "      <td>2020.0</td>\n",
              "      <td>0.0</td>\n",
              "      <td>0.0</td>\n",
              "      <td>Angola</td>\n",
              "      <td>AO</td>\n",
              "    </tr>\n",
              "    <tr>\n",
              "      <th>75</th>\n",
              "      <td>2020-03-24</td>\n",
              "      <td>24.0</td>\n",
              "      <td>3.0</td>\n",
              "      <td>2020.0</td>\n",
              "      <td>0.0</td>\n",
              "      <td>0.0</td>\n",
              "      <td>Angola</td>\n",
              "      <td>AO</td>\n",
              "    </tr>\n",
              "  </tbody>\n",
              "</table>\n",
              "</div>"
            ],
            "text/plain": [
              "      DateRep   Day  Month  ...  Deaths  Countries and territories  GeoId\n",
              "77 2020-03-22  22.0    3.0  ...     0.0                     Angola     AO\n",
              "76 2020-03-23  23.0    3.0  ...     0.0                     Angola     AO\n",
              "75 2020-03-24  24.0    3.0  ...     0.0                     Angola     AO\n",
              "\n",
              "[3 rows x 8 columns]"
            ]
          },
          "metadata": {
            "tags": []
          },
          "execution_count": 73
        }
      ]
    },
    {
      "cell_type": "code",
      "metadata": {
        "id": "uHWDzD3gI-RA",
        "colab_type": "code",
        "colab": {}
      },
      "source": [
        "Pak['DateRep'] = pd.to_datetime(Pak['DateRep'])"
      ],
      "execution_count": null,
      "outputs": []
    },
    {
      "cell_type": "code",
      "metadata": {
        "id": "-d-0WmeqJHG6",
        "colab_type": "code",
        "colab": {
          "base_uri": "https://localhost:8080/",
          "height": 407
        },
        "outputId": "4d3bd032-becc-453e-db6b-7c6a27f4edd4"
      },
      "source": [
        "Pak"
      ],
      "execution_count": null,
      "outputs": [
        {
          "output_type": "execute_result",
          "data": {
            "text/html": [
              "<div>\n",
              "<style scoped>\n",
              "    .dataframe tbody tr th:only-of-type {\n",
              "        vertical-align: middle;\n",
              "    }\n",
              "\n",
              "    .dataframe tbody tr th {\n",
              "        vertical-align: top;\n",
              "    }\n",
              "\n",
              "    .dataframe thead th {\n",
              "        text-align: right;\n",
              "    }\n",
              "</style>\n",
              "<table border=\"1\" class=\"dataframe\">\n",
              "  <thead>\n",
              "    <tr style=\"text-align: right;\">\n",
              "      <th></th>\n",
              "      <th>DateRep</th>\n",
              "      <th>Day</th>\n",
              "      <th>Month</th>\n",
              "      <th>Year</th>\n",
              "      <th>Cases</th>\n",
              "      <th>Deaths</th>\n",
              "      <th>Countries and territories</th>\n",
              "      <th>GeoId</th>\n",
              "    </tr>\n",
              "  </thead>\n",
              "  <tbody>\n",
              "    <tr>\n",
              "      <th>4689</th>\n",
              "      <td>2020-03-24</td>\n",
              "      <td>24.0</td>\n",
              "      <td>3.0</td>\n",
              "      <td>2020.0</td>\n",
              "      <td>103.0</td>\n",
              "      <td>1.0</td>\n",
              "      <td>Pakistan</td>\n",
              "      <td>PK</td>\n",
              "    </tr>\n",
              "    <tr>\n",
              "      <th>4690</th>\n",
              "      <td>2020-03-23</td>\n",
              "      <td>23.0</td>\n",
              "      <td>3.0</td>\n",
              "      <td>2020.0</td>\n",
              "      <td>138.0</td>\n",
              "      <td>2.0</td>\n",
              "      <td>Pakistan</td>\n",
              "      <td>PK</td>\n",
              "    </tr>\n",
              "    <tr>\n",
              "      <th>4691</th>\n",
              "      <td>2020-03-22</td>\n",
              "      <td>22.0</td>\n",
              "      <td>3.0</td>\n",
              "      <td>2020.0</td>\n",
              "      <td>151.0</td>\n",
              "      <td>0.0</td>\n",
              "      <td>Pakistan</td>\n",
              "      <td>PK</td>\n",
              "    </tr>\n",
              "    <tr>\n",
              "      <th>4692</th>\n",
              "      <td>2020-03-21</td>\n",
              "      <td>21.0</td>\n",
              "      <td>3.0</td>\n",
              "      <td>2020.0</td>\n",
              "      <td>17.0</td>\n",
              "      <td>1.0</td>\n",
              "      <td>Pakistan</td>\n",
              "      <td>PK</td>\n",
              "    </tr>\n",
              "    <tr>\n",
              "      <th>4693</th>\n",
              "      <td>2020-03-20</td>\n",
              "      <td>20.0</td>\n",
              "      <td>3.0</td>\n",
              "      <td>2020.0</td>\n",
              "      <td>176.0</td>\n",
              "      <td>2.0</td>\n",
              "      <td>Pakistan</td>\n",
              "      <td>PK</td>\n",
              "    </tr>\n",
              "    <tr>\n",
              "      <th>...</th>\n",
              "      <td>...</td>\n",
              "      <td>...</td>\n",
              "      <td>...</td>\n",
              "      <td>...</td>\n",
              "      <td>...</td>\n",
              "      <td>...</td>\n",
              "      <td>...</td>\n",
              "      <td>...</td>\n",
              "    </tr>\n",
              "    <tr>\n",
              "      <th>4764</th>\n",
              "      <td>2020-01-04</td>\n",
              "      <td>4.0</td>\n",
              "      <td>1.0</td>\n",
              "      <td>2020.0</td>\n",
              "      <td>0.0</td>\n",
              "      <td>0.0</td>\n",
              "      <td>Pakistan</td>\n",
              "      <td>PK</td>\n",
              "    </tr>\n",
              "    <tr>\n",
              "      <th>4765</th>\n",
              "      <td>2020-01-03</td>\n",
              "      <td>3.0</td>\n",
              "      <td>1.0</td>\n",
              "      <td>2020.0</td>\n",
              "      <td>0.0</td>\n",
              "      <td>0.0</td>\n",
              "      <td>Pakistan</td>\n",
              "      <td>PK</td>\n",
              "    </tr>\n",
              "    <tr>\n",
              "      <th>4766</th>\n",
              "      <td>2020-01-02</td>\n",
              "      <td>2.0</td>\n",
              "      <td>1.0</td>\n",
              "      <td>2020.0</td>\n",
              "      <td>0.0</td>\n",
              "      <td>0.0</td>\n",
              "      <td>Pakistan</td>\n",
              "      <td>PK</td>\n",
              "    </tr>\n",
              "    <tr>\n",
              "      <th>4767</th>\n",
              "      <td>2020-01-01</td>\n",
              "      <td>1.0</td>\n",
              "      <td>1.0</td>\n",
              "      <td>2020.0</td>\n",
              "      <td>0.0</td>\n",
              "      <td>0.0</td>\n",
              "      <td>Pakistan</td>\n",
              "      <td>PK</td>\n",
              "    </tr>\n",
              "    <tr>\n",
              "      <th>4768</th>\n",
              "      <td>2019-12-31</td>\n",
              "      <td>31.0</td>\n",
              "      <td>12.0</td>\n",
              "      <td>2019.0</td>\n",
              "      <td>0.0</td>\n",
              "      <td>0.0</td>\n",
              "      <td>Pakistan</td>\n",
              "      <td>PK</td>\n",
              "    </tr>\n",
              "  </tbody>\n",
              "</table>\n",
              "<p>80 rows × 8 columns</p>\n",
              "</div>"
            ],
            "text/plain": [
              "        DateRep   Day  Month  ...  Deaths  Countries and territories  GeoId\n",
              "4689 2020-03-24  24.0    3.0  ...     1.0                   Pakistan     PK\n",
              "4690 2020-03-23  23.0    3.0  ...     2.0                   Pakistan     PK\n",
              "4691 2020-03-22  22.0    3.0  ...     0.0                   Pakistan     PK\n",
              "4692 2020-03-21  21.0    3.0  ...     1.0                   Pakistan     PK\n",
              "4693 2020-03-20  20.0    3.0  ...     2.0                   Pakistan     PK\n",
              "...         ...   ...    ...  ...     ...                        ...    ...\n",
              "4764 2020-01-04   4.0    1.0  ...     0.0                   Pakistan     PK\n",
              "4765 2020-01-03   3.0    1.0  ...     0.0                   Pakistan     PK\n",
              "4766 2020-01-02   2.0    1.0  ...     0.0                   Pakistan     PK\n",
              "4767 2020-01-01   1.0    1.0  ...     0.0                   Pakistan     PK\n",
              "4768 2019-12-31  31.0   12.0  ...     0.0                   Pakistan     PK\n",
              "\n",
              "[80 rows x 8 columns]"
            ]
          },
          "metadata": {
            "tags": []
          },
          "execution_count": 76
        }
      ]
    },
    {
      "cell_type": "code",
      "metadata": {
        "id": "Wrw9g1YQJIGC",
        "colab_type": "code",
        "colab": {
          "base_uri": "https://localhost:8080/",
          "height": 407
        },
        "outputId": "df5a4e5a-4037-43a8-b456-8ff7a84c4fca"
      },
      "source": [
        "Pak.sort_values(by=\"DateRep\")"
      ],
      "execution_count": null,
      "outputs": [
        {
          "output_type": "execute_result",
          "data": {
            "text/html": [
              "<div>\n",
              "<style scoped>\n",
              "    .dataframe tbody tr th:only-of-type {\n",
              "        vertical-align: middle;\n",
              "    }\n",
              "\n",
              "    .dataframe tbody tr th {\n",
              "        vertical-align: top;\n",
              "    }\n",
              "\n",
              "    .dataframe thead th {\n",
              "        text-align: right;\n",
              "    }\n",
              "</style>\n",
              "<table border=\"1\" class=\"dataframe\">\n",
              "  <thead>\n",
              "    <tr style=\"text-align: right;\">\n",
              "      <th></th>\n",
              "      <th>DateRep</th>\n",
              "      <th>Day</th>\n",
              "      <th>Month</th>\n",
              "      <th>Year</th>\n",
              "      <th>Cases</th>\n",
              "      <th>Deaths</th>\n",
              "      <th>Countries and territories</th>\n",
              "      <th>GeoId</th>\n",
              "    </tr>\n",
              "  </thead>\n",
              "  <tbody>\n",
              "    <tr>\n",
              "      <th>4768</th>\n",
              "      <td>2019-12-31</td>\n",
              "      <td>31.0</td>\n",
              "      <td>12.0</td>\n",
              "      <td>2019.0</td>\n",
              "      <td>0.0</td>\n",
              "      <td>0.0</td>\n",
              "      <td>Pakistan</td>\n",
              "      <td>PK</td>\n",
              "    </tr>\n",
              "    <tr>\n",
              "      <th>4767</th>\n",
              "      <td>2020-01-01</td>\n",
              "      <td>1.0</td>\n",
              "      <td>1.0</td>\n",
              "      <td>2020.0</td>\n",
              "      <td>0.0</td>\n",
              "      <td>0.0</td>\n",
              "      <td>Pakistan</td>\n",
              "      <td>PK</td>\n",
              "    </tr>\n",
              "    <tr>\n",
              "      <th>4766</th>\n",
              "      <td>2020-01-02</td>\n",
              "      <td>2.0</td>\n",
              "      <td>1.0</td>\n",
              "      <td>2020.0</td>\n",
              "      <td>0.0</td>\n",
              "      <td>0.0</td>\n",
              "      <td>Pakistan</td>\n",
              "      <td>PK</td>\n",
              "    </tr>\n",
              "    <tr>\n",
              "      <th>4765</th>\n",
              "      <td>2020-01-03</td>\n",
              "      <td>3.0</td>\n",
              "      <td>1.0</td>\n",
              "      <td>2020.0</td>\n",
              "      <td>0.0</td>\n",
              "      <td>0.0</td>\n",
              "      <td>Pakistan</td>\n",
              "      <td>PK</td>\n",
              "    </tr>\n",
              "    <tr>\n",
              "      <th>4764</th>\n",
              "      <td>2020-01-04</td>\n",
              "      <td>4.0</td>\n",
              "      <td>1.0</td>\n",
              "      <td>2020.0</td>\n",
              "      <td>0.0</td>\n",
              "      <td>0.0</td>\n",
              "      <td>Pakistan</td>\n",
              "      <td>PK</td>\n",
              "    </tr>\n",
              "    <tr>\n",
              "      <th>...</th>\n",
              "      <td>...</td>\n",
              "      <td>...</td>\n",
              "      <td>...</td>\n",
              "      <td>...</td>\n",
              "      <td>...</td>\n",
              "      <td>...</td>\n",
              "      <td>...</td>\n",
              "      <td>...</td>\n",
              "    </tr>\n",
              "    <tr>\n",
              "      <th>4693</th>\n",
              "      <td>2020-03-20</td>\n",
              "      <td>20.0</td>\n",
              "      <td>3.0</td>\n",
              "      <td>2020.0</td>\n",
              "      <td>176.0</td>\n",
              "      <td>2.0</td>\n",
              "      <td>Pakistan</td>\n",
              "      <td>PK</td>\n",
              "    </tr>\n",
              "    <tr>\n",
              "      <th>4692</th>\n",
              "      <td>2020-03-21</td>\n",
              "      <td>21.0</td>\n",
              "      <td>3.0</td>\n",
              "      <td>2020.0</td>\n",
              "      <td>17.0</td>\n",
              "      <td>1.0</td>\n",
              "      <td>Pakistan</td>\n",
              "      <td>PK</td>\n",
              "    </tr>\n",
              "    <tr>\n",
              "      <th>4691</th>\n",
              "      <td>2020-03-22</td>\n",
              "      <td>22.0</td>\n",
              "      <td>3.0</td>\n",
              "      <td>2020.0</td>\n",
              "      <td>151.0</td>\n",
              "      <td>0.0</td>\n",
              "      <td>Pakistan</td>\n",
              "      <td>PK</td>\n",
              "    </tr>\n",
              "    <tr>\n",
              "      <th>4690</th>\n",
              "      <td>2020-03-23</td>\n",
              "      <td>23.0</td>\n",
              "      <td>3.0</td>\n",
              "      <td>2020.0</td>\n",
              "      <td>138.0</td>\n",
              "      <td>2.0</td>\n",
              "      <td>Pakistan</td>\n",
              "      <td>PK</td>\n",
              "    </tr>\n",
              "    <tr>\n",
              "      <th>4689</th>\n",
              "      <td>2020-03-24</td>\n",
              "      <td>24.0</td>\n",
              "      <td>3.0</td>\n",
              "      <td>2020.0</td>\n",
              "      <td>103.0</td>\n",
              "      <td>1.0</td>\n",
              "      <td>Pakistan</td>\n",
              "      <td>PK</td>\n",
              "    </tr>\n",
              "  </tbody>\n",
              "</table>\n",
              "<p>80 rows × 8 columns</p>\n",
              "</div>"
            ],
            "text/plain": [
              "        DateRep   Day  Month  ...  Deaths  Countries and territories  GeoId\n",
              "4768 2019-12-31  31.0   12.0  ...     0.0                   Pakistan     PK\n",
              "4767 2020-01-01   1.0    1.0  ...     0.0                   Pakistan     PK\n",
              "4766 2020-01-02   2.0    1.0  ...     0.0                   Pakistan     PK\n",
              "4765 2020-01-03   3.0    1.0  ...     0.0                   Pakistan     PK\n",
              "4764 2020-01-04   4.0    1.0  ...     0.0                   Pakistan     PK\n",
              "...         ...   ...    ...  ...     ...                        ...    ...\n",
              "4693 2020-03-20  20.0    3.0  ...     2.0                   Pakistan     PK\n",
              "4692 2020-03-21  21.0    3.0  ...     1.0                   Pakistan     PK\n",
              "4691 2020-03-22  22.0    3.0  ...     0.0                   Pakistan     PK\n",
              "4690 2020-03-23  23.0    3.0  ...     2.0                   Pakistan     PK\n",
              "4689 2020-03-24  24.0    3.0  ...     1.0                   Pakistan     PK\n",
              "\n",
              "[80 rows x 8 columns]"
            ]
          },
          "metadata": {
            "tags": []
          },
          "execution_count": 77
        }
      ]
    },
    {
      "cell_type": "code",
      "metadata": {
        "id": "LNuZDaKOJN4v",
        "colab_type": "code",
        "colab": {
          "base_uri": "https://localhost:8080/",
          "height": 297
        },
        "outputId": "bb67edc2-58f7-410f-a63e-092275d7077f"
      },
      "source": [
        "plt.plot(Pak['DateRep'], Pak['Cases'])\n",
        "plt.xlabel('Date')\n",
        "plt.ylabel('Number of Cases')\n",
        "\n"
      ],
      "execution_count": null,
      "outputs": [
        {
          "output_type": "execute_result",
          "data": {
            "text/plain": [
              "Text(0, 0.5, 'Number of Cases')"
            ]
          },
          "metadata": {
            "tags": []
          },
          "execution_count": 86
        },
        {
          "output_type": "display_data",
          "data": {
            "image/png": "[encoded data removed]",
            "text/plain": [
              "<Figure size 432x288 with 1 Axes>"
            ]
          },
          "metadata": {
            "tags": [],
            "needs_background": "light"
          }
        }
      ]
    },
    {
      "cell_type": "code",
      "metadata": {
        "id": "IiQUuGulJV3O",
        "colab_type": "code",
        "colab": {}
      },
      "source": [
        "def plot_single_bydate(Dataframe_df):\n",
        "  Dataframe_df['DateRep'] = pd.to_datetime(Dataframe_df['DateRep'])\n",
        "  Dataframe_df = Dataframe_df.sort_values(by = 'DateRep')\n",
        "  Dataframe_df.plot(x = 'DateRep', y = 'Cases', kind = 'line', figsize = (20,10))"
      ],
      "execution_count": null,
      "outputs": []
    },
    {
      "cell_type": "code",
      "metadata": {
        "id": "mmVjdGsNL0sg",
        "colab_type": "code",
        "colab": {}
      },
      "source": [
        "df_plot = get_country_frame(dataset, 'Pakistan') "
      ],
      "execution_count": null,
      "outputs": []
    },
    {
      "cell_type": "code",
      "metadata": {
        "id": "fyNb7L9BL_4N",
        "colab_type": "code",
        "colab": {
          "base_uri": "https://localhost:8080/",
          "height": 562
        },
        "outputId": "e3748857-e270-48e3-ff2d-803432966537"
      },
      "source": [
        "plot_single_bydate(df_plot)"
      ],
      "execution_count": null,
      "outputs": [
        {
          "output_type": "display_data",
          "data": {
            "image/png": "[encoded data removed]",
            "text/plain": [
              "<Figure size 1440x720 with 1 Axes>"
            ]
          },
          "metadata": {
            "tags": [],
            "needs_background": "light"
          }
        }
      ]
    },
    {
      "cell_type": "code",
      "metadata": {
        "id": "ztUPH7wAMC-T",
        "colab_type": "code",
        "colab": {
          "base_uri": "https://localhost:8080/",
          "height": 635
        },
        "outputId": "93a37a6d-42ea-425c-ae18-51e9dc9f4fe5"
      },
      "source": [
        "display_country_names()"
      ],
      "execution_count": null,
      "outputs": [
        {
          "output_type": "stream",
          "text": [
            "['Afghanistan' 'Angola' 'Albania' 'Andorra' 'Argentina' 'Armenia'\n",
            " 'Antigua_and_Barbuda' 'Algeria' 'Australia' 'Austria' 'Azerbaijan'\n",
            " 'Bahamas' 'Bahrain' 'Bangladesh' 'Barbados' 'Belarus' 'Belgium' 'Belize'\n",
            " 'Benin' 'Bermuda' 'Bhutan' 'Bolivia' 'Bosnia_and_Herzegovina' 'Brazil'\n",
            " 'Brunei_Darussalam' 'Bulgaria' 'Burkina_Faso' 'Cambodia' 'Cameroon'\n",
            " 'Canada' 'CANADA' 'Cape_Verde'\n",
            " 'Cases_on_an_international_conveyance_Japan' 'Cayman_Islands'\n",
            " 'Central_African_Republic' 'Chad' 'Chile' 'China' 'Colombia' 'Congo'\n",
            " 'Costa_Rica' 'Cote_dIvoire' 'Croatia' 'Cuba' 'Cyprus' 'Czech_Republic'\n",
            " 'Democratic_Republic_of_the_Congo' 'Denmark' 'Djibouti' 'Dominica'\n",
            " 'Dominican_Republic' 'Ecuador' 'Egypt' 'El_Salvador' 'Equatorial_Guinea'\n",
            " 'Eritrea' 'Estonia' 'Eswatini' 'Ethiopia' 'Faroe_Islands' 'Fiji'\n",
            " 'Finland' 'France' 'French_Polynesia' 'Gabon' 'Gambia' 'Georgia'\n",
            " 'Germany' 'Ghana' 'Gibraltar' 'Greece' 'Greenland' 'Grenada' 'Guam'\n",
            " 'Guatemala' 'Guernsey' 'Guinea' 'Guyana' 'Haiti' 'Holy_See' 'Honduras'\n",
            " 'Hungary' 'Iceland' 'India' 'Indonesia' 'Iran' 'Iraq' 'Ireland'\n",
            " 'Isle_of_Man' 'Israel' 'Italy' 'Jamaica' 'Japan' 'Jersey' 'Jordan'\n",
            " 'Kazakhstan' 'Kenya' 'Kosovo' 'Kuwait' 'Kyrgyzstan' 'Latvia' 'Lebanon'\n",
            " 'Liberia' 'Liechtenstein' 'Lithuania' 'Luxembourg' 'Madagascar'\n",
            " 'Malaysia' 'Maldives' 'Malta' 'Mauritania' 'Mauritius' 'Mexico' 'Moldova'\n",
            " 'Monaco' 'Mongolia' 'Montenegro' 'Montserrat' 'Morocco' 'Mozambique'\n",
            " 'Myanmar' 'Namibia' 'Nepal' 'Netherlands' 'Netherlands_Antilles'\n",
            " 'New_Caledonia' 'New_Zealand' 'Nicaragua' 'Niger' 'Nigeria'\n",
            " 'North_Macedonia' 'Norway' 'Oman' 'Pakistan' 'Palestine' 'Panama'\n",
            " 'Papua_New_Guinea' 'Paraguay' 'Peru' 'Philippines' 'Poland' 'Portugal'\n",
            " 'Qatar' 'Romania' 'Russia' 'Rwanda' 'Saint_Lucia'\n",
            " 'Saint_Vincent_and_the_Grenadines' 'San_Marino' 'Saudi_Arabia' 'Senegal'\n",
            " 'Serbia' 'Seychelles' 'Singapore' 'Slovakia' 'Slovenia' 'Somalia'\n",
            " 'South_Africa' 'South_Korea' 'Spain' 'Sri_Lanka' 'Sudan' 'Suriname'\n",
            " 'Sweden' 'Switzerland' 'Syria' 'Taiwan' 'Thailand' 'Timor_Leste' 'Togo'\n",
            " 'Trinidad_and_Tobago' 'Tunisia' 'Turkey' 'Uganda' 'Ukraine'\n",
            " 'United_Arab_Emirates' 'United_Kingdom' 'United_Republic_of_Tanzania'\n",
            " 'United_States_of_America' 'United_States_Virgin_Islands' 'Uruguay'\n",
            " 'Uzbekistan' 'Venezuela' 'Vietnam' 'Zambia' 'Zimbabwe']\n"
          ],
          "name": "stdout"
        }
      ]
    },
    {
      "cell_type": "code",
      "metadata": {
        "id": "R4MZ2-_-MdZ6",
        "colab_type": "code",
        "colab": {}
      },
      "source": [
        "df1 = get_country_frame(dataset,\"Albania\")"
      ],
      "execution_count": null,
      "outputs": []
    },
    {
      "cell_type": "code",
      "metadata": {
        "id": "Ydy_WtcoMfuq",
        "colab_type": "code",
        "colab": {}
      },
      "source": [
        "df3 = get_country_frame(dataset,\"Italy\")"
      ],
      "execution_count": null,
      "outputs": []
    },
    {
      "cell_type": "code",
      "metadata": {
        "id": "H-0FXCMjMkYH",
        "colab_type": "code",
        "colab": {
          "base_uri": "https://localhost:8080/",
          "height": 617
        },
        "outputId": "02fa8408-2cad-4d9b-fcfe-9fade7383317"
      },
      "source": [
        "plot_single_bydate(df3)"
      ],
      "execution_count": null,
      "outputs": [
        {
          "output_type": "display_data",
          "data": {
            "image/png": "[encoded data removed]",
            "text/plain": [
              "<Figure size 1440x720 with 1 Axes>"
            ]
          },
          "metadata": {
            "tags": [],
            "needs_background": "light"
          }
        }
      ]
    },
    {
      "cell_type": "code",
      "metadata": {
        "id": "JOgkNXW7MmUI",
        "colab_type": "code",
        "colab": {}
      },
      "source": [
        "def plot_double_byDate(Dataframe1,Dataframe2):\n",
        "    Dataframe1[\"DateRep\"] = pd.to_datetime(Dataframe1[\"DateRep\"])\n",
        "    Dataframe1 = Dataframe1.sort_values(by = \"DateRep\")\n",
        "    Dataframe2[\"DateRep\"] = pd.to_datetime(Dataframe2[\"DateRep\"])\n",
        "    Dataframe2 = Dataframe2.sort_values(by = \"DateRep\")\n",
        "    ax = Dataframe1.plot(x='DateRep', y ='Cases', kind = 'line',figsize = (20,10),label =Dataframe1.iloc[0][\"Countries and territories\"])\n",
        "    Dataframe2.plot(x='DateRep', y ='Cases', kind = 'line',figsize = (20,10),label =Dataframe2.iloc[0][\"Countries and territories\"],ax = ax)"
      ],
      "execution_count": null,
      "outputs": []
    },
    {
      "cell_type": "code",
      "metadata": {
        "id": "2ERsjNp6My3o",
        "colab_type": "code",
        "colab": {}
      },
      "source": [
        "df11 = get_country_frame(dataset,\"Iran\")"
      ],
      "execution_count": null,
      "outputs": []
    },
    {
      "cell_type": "code",
      "metadata": {
        "id": "RORXzCODM05Y",
        "colab_type": "code",
        "colab": {}
      },
      "source": [
        "df22 = get_country_frame(dataset,\"Switzerland\")"
      ],
      "execution_count": null,
      "outputs": []
    },
    {
      "cell_type": "code",
      "metadata": {
        "id": "4wFsagp1M4oQ",
        "colab_type": "code",
        "colab": {
          "base_uri": "https://localhost:8080/",
          "height": 617
        },
        "outputId": "64c0e882-8620-4fe1-98e9-58bbfbe1e781"
      },
      "source": [
        "  plot_double_byDate(df11,df22)"
      ],
      "execution_count": null,
      "outputs": [
        {
          "output_type": "display_data",
          "data": {
            "image/png": "[encoded data removed]",
            "text/plain": [
              "<Figure size 1440x720 with 1 Axes>"
            ]
          },
          "metadata": {
            "tags": [],
            "needs_background": "light"
          }
        }
      ]
    },
    {
      "cell_type": "code",
      "metadata": {
        "id": "LAoZ_Jz5M7qY",
        "colab_type": "code",
        "colab": {}
      },
      "source": [
        ""
      ],
      "execution_count": null,
      "outputs": []
    }
  ]
}